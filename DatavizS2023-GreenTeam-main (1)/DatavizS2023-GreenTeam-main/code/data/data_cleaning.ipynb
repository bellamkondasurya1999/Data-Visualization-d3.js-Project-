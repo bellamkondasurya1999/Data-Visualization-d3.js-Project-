{
 "cells": [
  {
   "cell_type": "code",
   "execution_count": 1,
   "id": "7ed008d6",
   "metadata": {},
   "outputs": [],
   "source": [
    "import pandas as pd"
   ]
  },
  {
   "cell_type": "code",
   "execution_count": 78,
   "id": "bc451e18",
   "metadata": {},
   "outputs": [],
   "source": [
    "city_attributes = pd.read_csv('clean_data/city_attributes.csv')\n",
    "humidity = pd.read_csv('clean_data/humidity.csv')\n",
    "pressure = pd.read_csv('clean_data/pressure.csv')\n",
    "temperature = pd.read_csv('clean_data/temperature.csv')\n",
    "wind_speed = pd.read_csv('clean_data/wind_speed.csv')\n",
    "\n",
    "city_attributes = city_attributes.rename(columns={\"City\" : \"location\"})"
   ]
  },
  {
   "cell_type": "code",
   "execution_count": 79,
   "id": "7267329b",
   "metadata": {},
   "outputs": [],
   "source": [
    "humidity['year'] = humidity['year'].astype('string')\n",
    "humidity['month'] = humidity['month'].astype('string')\n",
    "humidity['day'] = humidity['day'].astype('string')\n",
    "\n",
    "pressure['year'] = pressure['year'].astype('string')\n",
    "pressure['month'] = pressure['month'].astype('string')\n",
    "pressure['day'] = pressure['day'].astype('string')\n",
    "\n",
    "temperature['year'] = temperature['year'].astype('string')\n",
    "temperature['month'] = temperature['month'].astype('string')\n",
    "temperature['day'] = temperature['day'].astype('string')\n",
    "\n",
    "wind_speed['year'] = wind_speed['year'].astype('string')\n",
    "wind_speed['month'] = wind_speed['month'].astype('string')\n",
    "wind_speed['day'] = wind_speed['day'].astype('string')"
   ]
  },
  {
   "cell_type": "code",
   "execution_count": 80,
   "id": "e0490572",
   "metadata": {},
   "outputs": [],
   "source": [
    "humidity['date'] = humidity['year'] + \"-\" + humidity['month'] + \"-\" + humidity['day']\n",
    "pressure['date'] = pressure['year'] + \"-\" + pressure['month'] + \"-\" + pressure['day']\n",
    "temperature['date'] = temperature['year'] + \"-\" + temperature['month'] + \"-\" + temperature['day']\n",
    "wind_speed['date'] = wind_speed['year'] + \"-\" + wind_speed['month'] + \"-\" + wind_speed['day']"
   ]
  },
  {
   "cell_type": "code",
   "execution_count": 81,
   "id": "2055b9c5",
   "metadata": {},
   "outputs": [],
   "source": [
    "humidity = humidity.drop(columns=['day', 'month', 'year'])\n",
    "humidity = humidity.melt(id_vars=['date'], var_name='location', value_name='humidity')\n",
    "\n",
    "pressure = pressure.drop(columns=['day', 'month', 'year'])\n",
    "pressure = pressure.melt(id_vars=['date'], var_name='location', value_name='pressure')\n",
    "\n",
    "temperature = temperature.drop(columns=['day', 'month', 'year'])\n",
    "temperature = temperature.melt(id_vars=['date'], var_name='location', value_name='temperature')\n",
    "\n",
    "wind_speed = wind_speed.drop(columns=['day', 'month', 'year'])\n",
    "wind_speed = wind_speed.melt(id_vars=['date'], var_name='location', value_name='wind_speed')"
   ]
  },
  {
   "cell_type": "code",
   "execution_count": 82,
   "id": "3b2e2b24",
   "metadata": {},
   "outputs": [],
   "source": [
    "humidity_pressure = pd.merge(humidity, pressure, on=['date', 'location'], how='inner')\n",
    "temperature_windspeed = pd.merge(temperature, wind_speed, on=['date', 'location'], how='inner')\n",
    "joined_without_coords = pd.merge(humidity_pressure, temperature_windspeed, on=['date', 'location'], how='inner')"
   ]
  },
  {
   "cell_type": "code",
   "execution_count": 83,
   "id": "131bfba8",
   "metadata": {},
   "outputs": [],
   "source": [
    "cleaned_weather_dataset = pd.merge(joined_without_coords, city_attributes, on=['location'], how='inner')"
   ]
  },
  {
   "cell_type": "code",
   "execution_count": 84,
   "id": "45b89743",
   "metadata": {},
   "outputs": [],
   "source": [
    "cleaned_weather_dataset = cleaned_weather_dataset.drop(columns=['Country'])\n",
    "cleaned_weather_dataset = cleaned_weather_dataset.rename(columns={\"Latitude\":\"latitude\", \"Longitude\":\"longitude\"})"
   ]
  },
  {
   "cell_type": "code",
   "execution_count": 87,
   "id": "4294ea50",
   "metadata": {},
   "outputs": [],
   "source": [
    "new_cols = ['date', 'location', 'latitude', 'longitude', 'humidity', 'pressure', 'temperature', 'wind_speed']\n",
    "cleaned_weather_dataset = cleaned_weather_dataset.reindex(columns=new_cols)"
   ]
  },
  {
   "cell_type": "code",
   "execution_count": 90,
   "id": "cf2dbf4a",
   "metadata": {
    "scrolled": true
   },
   "outputs": [],
   "source": [
    "cleaned_weather_dataset\n",
    "cleaned_weather_dataset.to_csv(index=False)\n",
    "compression_opts = dict(method='zip', archive_name='out.csv')  \n",
    "cleaned_weather_dataset.to_csv('out.zip', index=False, compression=compression_opts) "
   ]
  },
  {
   "cell_type": "code",
   "execution_count": null,
   "id": "32649d4d",
   "metadata": {},
   "outputs": [],
   "source": []
  }
 ],
 "metadata": {
  "kernelspec": {
   "display_name": "Python 3 (ipykernel)",
   "language": "python",
   "name": "python3"
  },
  "language_info": {
   "codemirror_mode": {
    "name": "ipython",
    "version": 3
   },
   "file_extension": ".py",
   "mimetype": "text/x-python",
   "name": "python",
   "nbconvert_exporter": "python",
   "pygments_lexer": "ipython3",
   "version": "3.10.6"
  }
 },
 "nbformat": 4,
 "nbformat_minor": 5
}
